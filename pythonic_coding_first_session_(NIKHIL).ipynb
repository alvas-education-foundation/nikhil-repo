{
  "nbformat": 4,
  "nbformat_minor": 0,
  "metadata": {
    "colab": {
      "name": "pythonic_coding_first_session_(NIKHIL).ipynb",
      "provenance": [],
      "collapsed_sections": [],
      "include_colab_link": true
    },
    "kernelspec": {
      "name": "python3",
      "display_name": "Python 3"
    }
  },
  "cells": [
    {
      "cell_type": "markdown",
      "metadata": {
        "id": "view-in-github",
        "colab_type": "text"
      },
      "source": [
        "<a href=\"https://colab.research.google.com/github/alvas-education-foundation/nikhil-repo/blob/master/pythonic_coding_first_session_(NIKHIL).ipynb\" target=\"_parent\"><img src=\"https://colab.research.google.com/assets/colab-badge.svg\" alt=\"Open In Colab\"/></a>"
      ]
    },
    {
      "cell_type": "code",
      "metadata": {
        "id": "ZwyzkXNctvtU",
        "colab_type": "code",
        "colab": {
          "base_uri": "https://localhost:8080/",
          "height": 84
        },
        "outputId": "deb823f3-6a9a-4f34-ec67-eba80f3a7efc"
      },
      "source": [
        "#Finding compund interest \n",
        "def compound_interest(principle, rate, time):\n",
        "   CI = principle * (pow((1 + rate / 100), time))\n",
        "   print(\"Compound interest : \", CI)\n",
        "# main\n",
        "p = int(input(\"Enter the Principle : \"))\n",
        "r = float(input(\"Enter the Rate of Interest : \"))\n",
        "t = int(input(\"Enter the Time : \"))\n",
        "compound_interest(p, r, t)"
      ],
      "execution_count": null,
      "outputs": [
        {
          "output_type": "stream",
          "text": [
            "Enter the Principle : 10000\n",
            "Enter the Rate of Interest : 5\n",
            "Enter the Time : 3\n",
            "Compound interest :  11576.250000000002\n"
          ],
          "name": "stdout"
        }
      ]
    },
    {
      "cell_type": "code",
      "metadata": {
        "id": "LGOuNA4YCPxy",
        "colab_type": "code",
        "colab": {}
      },
      "source": [
        "#Convert centegrade to fahrenheit"
      ],
      "execution_count": null,
      "outputs": []
    },
    {
      "cell_type": "code",
      "metadata": {
        "id": "eBuFo1dcCeoJ",
        "colab_type": "code",
        "colab": {
          "base_uri": "https://localhost:8080/",
          "height": 50
        },
        "outputId": "5dfc5c77-8dc0-47f0-a8fb-b9dbe4c35d12"
      },
      "source": [
        "celsius = float(input(\"Enter temperature in celsius: \"))\n",
        "fahrenheit = (celsius * 9/5) + 32\n",
        "print('%.2f Celsius is: %0.2f Fahrenheit' %(celsius, fahrenheit))"
      ],
      "execution_count": null,
      "outputs": [
        {
          "output_type": "stream",
          "text": [
            "Enter temperature in celsius: 99\n",
            "99.00 Celsius is: 210.20 Fahrenheit\n"
          ],
          "name": "stdout"
        }
      ]
    },
    {
      "cell_type": "code",
      "metadata": {
        "id": "3YEzTkj3ClS_",
        "colab_type": "code",
        "colab": {}
      },
      "source": [
        "#Find the greater of two nos"
      ],
      "execution_count": null,
      "outputs": []
    },
    {
      "cell_type": "code",
      "metadata": {
        "id": "k0xxKwQxCtVq",
        "colab_type": "code",
        "colab": {
          "base_uri": "https://localhost:8080/",
          "height": 67
        },
        "outputId": "5f9a9a49-6c35-4ad9-dee3-d30a08658c0c"
      },
      "source": [
        "a = int(input('Enter first number: '))\n",
        "b = int(input('Enter second number: '))\n",
        "if a>b:\n",
        "    print('{0} is greater than {1}'.format(a,b))\n",
        "elif b>a:\n",
        "    print(\"{0} is greater than {1}\".format(b,a))\n",
        "else:\n",
        "  print(\"Both the numbers are equal\")"
      ],
      "execution_count": null,
      "outputs": [
        {
          "output_type": "stream",
          "text": [
            "Enter first number: 30\n",
            "Enter second number: 40\n",
            "40 is greater than 30\n"
          ],
          "name": "stdout"
        }
      ]
    },
    {
      "cell_type": "code",
      "metadata": {
        "id": "uGptmZi4Cxhz",
        "colab_type": "code",
        "colab": {}
      },
      "source": [
        "#Finding surface areas of cylinder and cone"
      ],
      "execution_count": null,
      "outputs": []
    },
    {
      "cell_type": "code",
      "metadata": {
        "id": "yEdwfWoRC3kL",
        "colab_type": "code",
        "colab": {
          "base_uri": "https://localhost:8080/",
          "height": 84
        },
        "outputId": "596075d3-2f16-4a10-916c-f2e780dfb5eb"
      },
      "source": [
        "#Write a program for finding surface areas of cylinder and cone (2*PI*r*r*h, 1/3*PI*r*r*h) using function.\n",
        " \n",
        "# Importing Math library for value Of PI \n",
        "import math \n",
        "pi = math.pi \n",
        " \n",
        "# Function to calculate Surface Area of Cylinder \n",
        "def surfacearea1(r, h): \n",
        "    return 2 * pi * r * r * h \n",
        " \n",
        "# Function To Calculate Surface Area of Cone \n",
        "def surfacearea2(r, h): \n",
        "    return (1 / 3) * pi * r * r * h \n",
        " \n",
        "radius = float(input(\"Enter the radius \"))\n",
        "height = float(input(\"Enter the height\"))\n",
        " \n",
        "print( \"Surface Area Of Cylinder : \", surfacearea1(radius, height) ) \n",
        "print( \"Surface Area Of Cone : \", surfacearea2(radius, height) )"
      ],
      "execution_count": null,
      "outputs": [
        {
          "output_type": "stream",
          "text": [
            "Enter the radius 10\n",
            "Enter the height7\n",
            "Surface Area Of Cylinder :  4398.229715025711\n",
            "Surface Area Of Cone :  733.0382858376183\n"
          ],
          "name": "stdout"
        }
      ]
    },
    {
      "cell_type": "code",
      "metadata": {
        "id": "jPGxT88cC8oS",
        "colab_type": "code",
        "colab": {}
      },
      "source": [
        "#Find the greatest of four nos ( using ‘and’ operator) using function."
      ],
      "execution_count": null,
      "outputs": []
    },
    {
      "cell_type": "code",
      "metadata": {
        "id": "BjlzrvlaDCw8",
        "colab_type": "code",
        "colab": {
          "base_uri": "https://localhost:8080/",
          "height": 101
        },
        "outputId": "4d9bd645-7c24-4830-c39f-d21ca8a9e2e3"
      },
      "source": [
        "#Find the greatest of four nos ( using ‘and’ operator)   using function.\n",
        "n1 = input(\"Enter the first number \")\n",
        "n2 = input(\"Enter the second number \")\n",
        "n3 = input(\"Enter the third number \")\n",
        "n4 = input(\"Enter the fourth number \")\n",
        "  \n",
        "mx = (n1 if (n1 > n2 and n1 > n2 and n1 > n4)  \n",
        "         else (n2 if (n2 > n3 and n3 > n4)  \n",
        "         else (n3 if n3 > n4 else n4))) \n",
        "  \n",
        "# str() function is used to convert  \n",
        "# integer to string, it is required  \n",
        "# as we are concatenating integers \n",
        "# with string \n",
        "print(\"Largest number among \" + str(n1) + \", \" + str(n2) + \", \" + str(n3) + \" and \" + str(n4) + \" is \" + str(mx))"
      ],
      "execution_count": null,
      "outputs": [
        {
          "output_type": "stream",
          "text": [
            "Enter the first number 10\n",
            "Enter the second number 20\n",
            "Enter the third number 40\n",
            "Enter the fourth number 60\n",
            "Largest number among 10, 20, 40 and 60 is 60\n"
          ],
          "name": "stdout"
        }
      ]
    },
    {
      "cell_type": "code",
      "metadata": {
        "id": "CuKtTcrwDGds",
        "colab_type": "code",
        "colab": {}
      },
      "source": [
        "#ODDorEven, Factorial, ODDNoUptoN, PrimeUptoN"
      ],
      "execution_count": null,
      "outputs": []
    },
    {
      "cell_type": "code",
      "metadata": {
        "id": "O8af8booDOE8",
        "colab_type": "code",
        "colab": {}
      },
      "source": [
        " #Write a  menu program to perform the operations ( ODDorEven, Factorial, ODDNoUptoN, PrimeUptoN ) using functions for two nos with  menu choice\n",
        "loop = 1 # 1 means loop; anything else means don't loop.\n",
        "choice = 0 # This variable holds the user's choice in the menu\n",
        " "
      ],
      "execution_count": null,
      "outputs": []
    },
    {
      "cell_type": "code",
      "metadata": {
        "id": "aGOGwGRlDY3g",
        "colab_type": "code",
        "colab": {
          "base_uri": "https://localhost:8080/",
          "height": 538
        },
        "outputId": "994ccb26-d832-4ae8-9dd3-35979c526630"
      },
      "source": [
        "def oddoreven():\n",
        "    num = int(input(\"Enter a number: \"))\n",
        "    if (num % 2) == 0:\n",
        "      print(\"{0} is Even\".format(num))\n",
        "    else:\n",
        "      print(\"{0} is Odd\".format(num)) \n",
        " \n",
        " \n",
        "def factorial():\n",
        "  num = int(input(\"enter the number\"))\n",
        "  factorial = 1\n",
        "  if num < 0:\n",
        "    print(\"Sorry, factorial does not exist for negative numbers\")\n",
        "  elif num == 0:\n",
        "    print(\"The factorial of 0 is 1\")\n",
        "  else:\n",
        "    for i in range(1,num + 1):\n",
        "      factorial = factorial*i\n",
        "      print(\"The factorial of\",num,\"is\",factorial)\n",
        " \n",
        " \n",
        "def oddtilln():\n",
        "    maximum = int(input(\" Please Enter any Maximum Value : \"))\n",
        "    for number in range(1, maximum + 1):\n",
        "     if(number % 2 != 0):\n",
        "        print(\"{0}\".format(number))\n",
        " \n",
        " \n",
        "def primetilln():\n",
        "    upto = int(input(\"Find prime numbers upto : \"))\n",
        " \n",
        "    print(\"\\nAll prime numbers upto\", upto, \"are : \")\n",
        " \n",
        "    for num in range(2, upto + 1):\n",
        " \n",
        "      i = 2\n",
        " \n",
        "      for i in range(2, num):\n",
        "        if(num % i == 0):\n",
        "            i = num\n",
        "            break;\n",
        " \n",
        "    # If the number is prime then print it.\n",
        "      if(i != num):\n",
        "        print(num, end=\" \")\n",
        " \n",
        "    print(\"\\n\")\n",
        " \n",
        "while loop == 1:\n",
        "    # Print what options you have\n",
        "    print (\"Welcome to math program\")\n",
        "    print (\"your options are:\")\n",
        "    print (\" \")\n",
        "    print(\"1) ODD or Even\")\n",
        "    print(\"2) Factorial\")\n",
        "    print(\"3) Odd number upto n \")\n",
        "    print(\"4) Prime number upto n \")\n",
        "    print(\"5) Quit the program\")\n",
        "    print(\" \")\n",
        "    try:\n",
        "        choice = int(input(\"Choose your option: \"))\n",
        "    except:\n",
        "        print('please enter a valid number for option')\n",
        "    print(\" \")\n",
        "    print(\" \")\n",
        "    if choice == 1:\n",
        "        oddoreven()\n",
        " \n",
        "    elif choice == 2:\n",
        "        factorial() \n",
        "  \n",
        "    elif choice == 3:\n",
        "        oddtilln()\n",
        " \n",
        "    elif choice == 4:\n",
        "         primetilln()\n",
        "        \n",
        "    elif choice == 5:\n",
        "        loop = 0\n",
        "     \n",
        "    else:\n",
        "        print(\"please choice a valid option from 1 to 5\")\n",
        "        choice=0\n",
        "print (\"Thank-you for using math program\")"
      ],
      "execution_count": null,
      "outputs": [
        {
          "output_type": "stream",
          "text": [
            "Welcome to math program\n",
            "your options are:\n",
            " \n",
            "1) ODD or Even\n",
            "2) Factorial\n",
            "3) Odd number upto n \n",
            "4) Prime number upto n \n",
            "5) Quit the program\n",
            " \n",
            "Choose your option: 2\n",
            " \n",
            " \n",
            "enter the number5\n",
            "The factorial of 5 is 1\n",
            "The factorial of 5 is 2\n",
            "The factorial of 5 is 6\n",
            "The factorial of 5 is 24\n",
            "The factorial of 5 is 120\n",
            "Welcome to math program\n",
            "your options are:\n",
            " \n",
            "1) ODD or Even\n",
            "2) Factorial\n",
            "3) Odd number upto n \n",
            "4) Prime number upto n \n",
            "5) Quit the program\n",
            " \n",
            "Choose your option: 5\n",
            " \n",
            " \n",
            "Thank-you for using math program\n"
          ],
          "name": "stdout"
        }
      ]
    }
  ]
}